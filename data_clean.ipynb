{
  "nbformat": 4,
  "nbformat_minor": 0,
  "metadata": {
    "colab": {
      "name": "data_clean.ipynb",
      "version": "0.3.2",
      "provenance": [],
      "collapsed_sections": []
    },
    "kernelspec": {
      "name": "python3",
      "display_name": "Python 3"
    }
  },
  "cells": [
    {
      "metadata": {
        "id": "L9NOj_Q_wLpL",
        "colab_type": "code",
        "outputId": "588bfca7-ec61-4d87-cfff-37c768c45865",
        "colab": {
          "base_uri": "https://localhost:8080/",
          "height": 35
        }
      },
      "cell_type": "code",
      "source": [
        "# Mount your google drive as the data drive\n",
        "# This will require google authorization\n",
        "from google.colab import drive\n",
        "drive.mount('/content/drive')"
      ],
      "execution_count": 0,
      "outputs": [
        {
          "output_type": "stream",
          "text": [
            "Drive already mounted at /content/drive; to attempt to forcibly remount, call drive.mount(\"/content/drive\", force_remount=True).\n"
          ],
          "name": "stdout"
        }
      ]
    },
    {
      "metadata": {
        "id": "nMN7S42xx2Bl",
        "colab_type": "code",
        "colab": {}
      },
      "cell_type": "code",
      "source": [
        "import pandas\n",
        "import numpy as np\n",
        "import math\n",
        "import random\n",
        "import os\n",
        "import datetime\n",
        "import csv\n",
        "%matplotlib inline\n",
        "import matplotlib.pyplot as plt"
      ],
      "execution_count": 0,
      "outputs": []
    },
    {
      "metadata": {
        "id": "qezwMoQLx9pE",
        "colab_type": "code",
        "colab": {}
      },
      "cell_type": "code",
      "source": [
        "data = pandas.read_csv('/content/drive/My Drive/data/lyrics.csv')"
      ],
      "execution_count": 0,
      "outputs": []
    },
    {
      "metadata": {
        "id": "HzZr2dehyOm4",
        "colab_type": "code",
        "outputId": "51676a2a-1a2f-4017-af69-75f2dfcda822",
        "colab": {
          "base_uri": "https://localhost:8080/",
          "height": 35
        }
      },
      "cell_type": "code",
      "source": [
        "print(len(data))"
      ],
      "execution_count": 0,
      "outputs": [
        {
          "output_type": "stream",
          "text": [
            "362237\n"
          ],
          "name": "stdout"
        }
      ]
    },
    {
      "metadata": {
        "id": "nm5zZ6T4zC4l",
        "colab_type": "code",
        "outputId": "ca8da46b-3732-4f6c-a77f-aae9f60c6563",
        "colab": {
          "base_uri": "https://localhost:8080/",
          "height": 211
        }
      },
      "cell_type": "code",
      "source": [
        "data_genre_lyrics = data.iloc[:,4:]\n",
        "print(data_genre_lyrics.iloc[0:10,:])"
      ],
      "execution_count": 0,
      "outputs": [
        {
          "output_type": "stream",
          "text": [
            "  genre                                             lyrics\n",
            "0   Pop  Oh baby, how you doing?\\nYou know I'm gonna cu...\n",
            "1   Pop  playin' everything so easy,\\nit's like you see...\n",
            "2   Pop  If you search\\nFor tenderness\\nIt isn't hard t...\n",
            "3   Pop  Oh oh oh I, oh oh oh I\\n[Verse 1:]\\nIf I wrote...\n",
            "4   Pop  Party the people, the people the party it's po...\n",
            "5   Pop  I heard\\nChurch bells ringing\\nI heard\\nA choi...\n",
            "6   Pop  This is just another day that I would spend\\nW...\n",
            "7   Pop  Waiting, waiting, waiting, waiting\\nWaiting, w...\n",
            "8   Pop  [Verse 1:]\\nI read all of the magazines\\nwhile...\n",
            "9   Pop  N-n-now, honey\\nYou better sit down and look a...\n"
          ],
          "name": "stdout"
        }
      ]
    },
    {
      "metadata": {
        "id": "VsQl_B36HqWu",
        "colab_type": "code",
        "outputId": "dd8c4df4-65e1-4190-d3d1-4cae779b6041",
        "colab": {
          "base_uri": "https://localhost:8080/",
          "height": 70
        }
      },
      "cell_type": "code",
      "source": [
        "data_genre_lyrics.genre.unique()"
      ],
      "execution_count": 0,
      "outputs": [
        {
          "output_type": "execute_result",
          "data": {
            "text/plain": [
              "array(['Pop', 'Hip-Hop', 'Not Available', 'Other', 'Rock', 'Metal',\n",
              "       'Country', 'Jazz', 'Electronic', 'Folk', 'R&B', 'Indie'],\n",
              "      dtype=object)"
            ]
          },
          "metadata": {
            "tags": []
          },
          "execution_count": 6
        }
      ]
    },
    {
      "metadata": {
        "id": "Ha0wObIDKHQE",
        "colab_type": "code",
        "outputId": "a6a78589-5f20-429e-8346-4b4e12a06577",
        "colab": {
          "base_uri": "https://localhost:8080/",
          "height": 35
        }
      },
      "cell_type": "code",
      "source": [
        "subset_data = [data_genre_lyrics.iloc[i,:] for i in range(len(data_genre_lyrics)) if data_genre_lyrics.iloc[i,0] !='Not Available' and data_genre_lyrics.iloc[i,0] != 'Other']\n",
        "print(len(subset_data))"
      ],
      "execution_count": 0,
      "outputs": [
        {
          "output_type": "stream",
          "text": [
            "308740\n"
          ],
          "name": "stdout"
        }
      ]
    },
    {
      "metadata": {
        "id": "eeq-qhILHXdp",
        "colab_type": "code",
        "outputId": "ff74bc82-d808-4ffa-a7cb-75c5eeed60bf",
        "colab": {
          "base_uri": "https://localhost:8080/",
          "height": 52
        }
      },
      "cell_type": "code",
      "source": [
        "original_song_counts = np.zeros(10)\n",
        "\n",
        "for i in range(len(data_genre_lyrics)):\n",
        "  if data_genre_lyrics.iloc[i,0] == 'Pop':\n",
        "    original_song_counts[0] = original_song_counts[0] + 1\n",
        "  elif data_genre_lyrics.iloc[i,0] == 'Hip-Hop':\n",
        "    original_song_counts[1] = original_song_counts[1] + 1\n",
        "  elif data_genre_lyrics.iloc[i,0] == 'Rock':\n",
        "    original_song_counts[2] = original_song_counts[2] + 1\n",
        "  elif data_genre_lyrics.iloc[i,0] == 'Metal':\n",
        "    original_song_counts[3] = original_song_counts[3] + 1\n",
        "  elif data_genre_lyrics.iloc[i,0] == 'Country':\n",
        "    original_song_counts[4] = original_song_counts[4] + 1\n",
        "  elif data_genre_lyrics.iloc[i,0] == 'Jazz':\n",
        "    original_song_counts[5] = original_song_counts[5] + 1\n",
        "  elif data_genre_lyrics.iloc[i,0] == 'Electronic':\n",
        "    original_song_counts[6] = original_song_counts[6] + 1\n",
        "  elif data_genre_lyrics.iloc[i,0] == 'Folk':\n",
        "    original_song_counts[7] = original_song_counts[7] + 1\n",
        "  elif data_genre_lyrics.iloc[i,0] == 'R&B':\n",
        "    original_song_counts[8] = original_song_counts[8] + 1\n",
        "  elif data_genre_lyrics.iloc[i,0] == 'Indie':\n",
        "    original_song_counts[9] = original_song_counts[9] + 1\n",
        "  \n",
        "\n",
        "print(original_song_counts)"
      ],
      "execution_count": 0,
      "outputs": [
        {
          "output_type": "stream",
          "text": [
            "[ 49444.  33965. 131377.  28408.  17286.  17147.  16205.   3241.   5935.\n",
            "   5732.]\n"
          ],
          "name": "stdout"
        }
      ]
    },
    {
      "metadata": {
        "id": "QFIZx8Q3Lup8",
        "colab_type": "code",
        "colab": {}
      },
      "cell_type": "code",
      "source": [
        "subset_data = pandas.DataFrame(subset_data)"
      ],
      "execution_count": 0,
      "outputs": []
    },
    {
      "metadata": {
        "id": "g90AdtCLjpC0",
        "colab_type": "code",
        "outputId": "98dbf8a2-e9d3-49ed-eccd-c058ad26aaa4",
        "colab": {
          "base_uri": "https://localhost:8080/",
          "height": 52
        }
      },
      "cell_type": "code",
      "source": [
        "!pip3 install langdetect"
      ],
      "execution_count": 0,
      "outputs": [
        {
          "output_type": "stream",
          "text": [
            "Requirement already satisfied: langdetect in /usr/local/lib/python3.6/dist-packages (1.0.7)\n",
            "Requirement already satisfied: six in /usr/local/lib/python3.6/dist-packages (from langdetect) (1.11.0)\n"
          ],
          "name": "stdout"
        }
      ]
    },
    {
      "metadata": {
        "id": "kPM7LuxCkM5o",
        "colab_type": "code",
        "colab": {}
      },
      "cell_type": "code",
      "source": [
        "from langdetect import detect"
      ],
      "execution_count": 0,
      "outputs": []
    },
    {
      "metadata": {
        "id": "3GwvkxLNISuA",
        "colab_type": "code",
        "outputId": "83cbb12c-3cb0-4560-b957-e80fdbe729f4",
        "colab": {
          "base_uri": "https://localhost:8080/",
          "height": 600
        }
      },
      "cell_type": "code",
      "source": [
        "plt.pie(original_song_counts, labels = subset_data.genre.unique())"
      ],
      "execution_count": 0,
      "outputs": [
        {
          "output_type": "execute_result",
          "data": {
            "text/plain": [
              "([<matplotlib.patches.Wedge at 0x7f1efb929860>,\n",
              "  <matplotlib.patches.Wedge at 0x7f1efb929d30>,\n",
              "  <matplotlib.patches.Wedge at 0x7f1efb93a240>,\n",
              "  <matplotlib.patches.Wedge at 0x7f1efb93a748>,\n",
              "  <matplotlib.patches.Wedge at 0x7f1efb93ac88>,\n",
              "  <matplotlib.patches.Wedge at 0x7f1efb943208>,\n",
              "  <matplotlib.patches.Wedge at 0x7f1efba12be0>,\n",
              "  <matplotlib.patches.Wedge at 0x7f1efb943c50>,\n",
              "  <matplotlib.patches.Wedge at 0x7f1efb94d1d0>,\n",
              "  <matplotlib.patches.Wedge at 0x7f1efb94d710>],\n",
              " [Text(0.963691,0.530376,'Pop'),\n",
              "  Text(0.238922,1.07374,'Hip-Hop'),\n",
              "  Text(-1.09367,0.117805,'Rock'),\n",
              "  Text(-0.0573945,-1.0985,'Metal'),\n",
              "  Text(0.441253,-1.00762,'Country'),\n",
              "  Text(0.760309,-0.794941,'Jazz'),\n",
              "  Text(0.981577,-0.496495,'Electronic'),\n",
              "  Text(1.06003,-0.293844,'Folk'),\n",
              "  Text(1.08281,-0.193733,'R&B'),\n",
              "  Text(1.09813,-0.0641225,'Indie')])"
            ]
          },
          "metadata": {
            "tags": []
          },
          "execution_count": 12
        },
        {
          "output_type": "display_data",
          "data": {
            "image/png": "[encoded data removed]",
            "text/plain": [
              "<matplotlib.figure.Figure at 0x7f1efdd09ef0>"
            ]
          },
          "metadata": {
            "tags": []
          }
        }
      ]
    },
    {
      "metadata": {
        "id": "zHQLikqP0OM-",
        "colab_type": "code",
        "outputId": "bcbe572b-6d80-48df-cfab-a3d113573e50",
        "colab": {
          "base_uri": "https://localhost:8080/",
          "height": 35
        }
      },
      "cell_type": "code",
      "source": [
        "num_words = [len(str(subset_data.iloc[i,1])) for i in range(len(subset_data))]\n",
        "print(num_words[0:10])"
      ],
      "execution_count": 0,
      "outputs": [
        {
          "output_type": "stream",
          "text": [
            "[1961, 1270, 827, 2344, 1540, 632, 1408, 2112, 2110, 1595]\n"
          ],
          "name": "stdout"
        }
      ]
    },
    {
      "metadata": {
        "id": "5OOJxplC2hu9",
        "colab_type": "code",
        "outputId": "075ab454-70c3-4658-a004-0703c96a82bc",
        "colab": {
          "base_uri": "https://localhost:8080/",
          "height": 740
        }
      },
      "cell_type": "code",
      "source": [
        "k = num_words.index(min(num_words))\n",
        "print(subset_data.iloc[k,:])\n",
        "plt.hist(num_words,50)"
      ],
      "execution_count": 0,
      "outputs": [
        {
          "output_type": "stream",
          "text": [
            "genre     Rock\n",
            "lyrics       '\n",
            "Name: 6978, dtype: object\n"
          ],
          "name": "stdout"
        },
        {
          "output_type": "execute_result",
          "data": {
            "text/plain": [
              "(array([1.67055e+05, 1.02947e+05, 2.32260e+04, 9.44100e+03, 4.06700e+03,\n",
              "        1.36500e+03, 4.17000e+02, 1.00000e+02, 4.90000e+01, 1.60000e+01,\n",
              "        1.50000e+01, 1.20000e+01, 5.00000e+00, 3.00000e+00, 2.00000e+00,\n",
              "        8.00000e+00, 1.00000e+00, 1.00000e+00, 5.00000e+00, 1.00000e+00,\n",
              "        0.00000e+00, 0.00000e+00, 0.00000e+00, 0.00000e+00, 0.00000e+00,\n",
              "        0.00000e+00, 0.00000e+00, 1.00000e+00, 0.00000e+00, 1.00000e+00,\n",
              "        0.00000e+00, 0.00000e+00, 0.00000e+00, 0.00000e+00, 0.00000e+00,\n",
              "        0.00000e+00, 0.00000e+00, 0.00000e+00, 0.00000e+00, 0.00000e+00,\n",
              "        0.00000e+00, 0.00000e+00, 1.00000e+00, 0.00000e+00, 0.00000e+00,\n",
              "        0.00000e+00, 0.00000e+00, 0.00000e+00, 0.00000e+00, 1.00000e+00]),\n",
              " array([1.000000e+00, 8.436200e+02, 1.686240e+03, 2.528860e+03,\n",
              "        3.371480e+03, 4.214100e+03, 5.056720e+03, 5.899340e+03,\n",
              "        6.741960e+03, 7.584580e+03, 8.427200e+03, 9.269820e+03,\n",
              "        1.011244e+04, 1.095506e+04, 1.179768e+04, 1.264030e+04,\n",
              "        1.348292e+04, 1.432554e+04, 1.516816e+04, 1.601078e+04,\n",
              "        1.685340e+04, 1.769602e+04, 1.853864e+04, 1.938126e+04,\n",
              "        2.022388e+04, 2.106650e+04, 2.190912e+04, 2.275174e+04,\n",
              "        2.359436e+04, 2.443698e+04, 2.527960e+04, 2.612222e+04,\n",
              "        2.696484e+04, 2.780746e+04, 2.865008e+04, 2.949270e+04,\n",
              "        3.033532e+04, 3.117794e+04, 3.202056e+04, 3.286318e+04,\n",
              "        3.370580e+04, 3.454842e+04, 3.539104e+04, 3.623366e+04,\n",
              "        3.707628e+04, 3.791890e+04, 3.876152e+04, 3.960414e+04,\n",
              "        4.044676e+04, 4.128938e+04, 4.213200e+04]),\n",
              " <a list of 50 Patch objects>)"
            ]
          },
          "metadata": {
            "tags": []
          },
          "execution_count": 14
        },
        {
          "output_type": "display_data",
          "data": {
            "image/png": "[encoded data removed]",
            "text/plain": [
              "<matplotlib.figure.Figure at 0x7f1efb9f1748>"
            ]
          },
          "metadata": {
            "tags": []
          }
        }
      ]
    },
    {
      "metadata": {
        "id": "VhJgQZAd3c8D",
        "colab_type": "code",
        "outputId": "648bf556-daea-44b3-fd7a-81b72f640158",
        "colab": {
          "base_uri": "https://localhost:8080/",
          "height": 674
        }
      },
      "cell_type": "code",
      "source": [
        "from scipy.stats import norm\n",
        "print(np.mean(num_words))\n",
        "print(np.max(num_words))\n",
        "print(np.min(num_words))\n",
        "print(np.std(num_words))\n",
        "\n",
        "mean = np.mean(num_words)\n",
        "std = np.std(num_words)\n",
        "values = np.random.normal(mean,std,10000)\n",
        "plt.hist(values,50)"
      ],
      "execution_count": 0,
      "outputs": [
        {
          "output_type": "stream",
          "text": [
            "889.0414458767896\n",
            "42132\n",
            "1\n",
            "862.2422951494902\n"
          ],
          "name": "stdout"
        },
        {
          "output_type": "execute_result",
          "data": {
            "text/plain": [
              "(array([  1.,   0.,   1.,   1.,   7.,  11.,  11.,  13.,  22.,  42.,  54.,\n",
              "         62.,  85., 140., 193., 221., 293., 332., 433., 478., 547., 571.,\n",
              "        618., 619., 668., 600., 589., 564., 504., 441., 408., 372., 278.,\n",
              "        226., 169., 124.,  97.,  71.,  45.,  22.,  28.,  18.,  11.,   5.,\n",
              "          1.,   1.,   1.,   0.,   1.,   1.]),\n",
              " array([-2521.6140658 , -2381.8702349 , -2242.12640399, -2102.38257308,\n",
              "        -1962.63874217, -1822.89491126, -1683.15108035, -1543.40724944,\n",
              "        -1403.66341853, -1263.91958763, -1124.17575672,  -984.43192581,\n",
              "         -844.6880949 ,  -704.94426399,  -565.20043308,  -425.45660217,\n",
              "         -285.71277127,  -145.96894036,    -6.22510945,   133.51872146,\n",
              "          273.26255237,   413.00638328,   552.75021419,   692.4940451 ,\n",
              "          832.237876  ,   971.98170691,  1111.72553782,  1251.46936873,\n",
              "         1391.21319964,  1530.95703055,  1670.70086146,  1810.44469236,\n",
              "         1950.18852327,  2089.93235418,  2229.67618509,  2369.420016  ,\n",
              "         2509.16384691,  2648.90767782,  2788.65150873,  2928.39533963,\n",
              "         3068.13917054,  3207.88300145,  3347.62683236,  3487.37066327,\n",
              "         3627.11449418,  3766.85832509,  3906.60215599,  4046.3459869 ,\n",
              "         4186.08981781,  4325.83364872,  4465.57747963]),\n",
              " <a list of 50 Patch objects>)"
            ]
          },
          "metadata": {
            "tags": []
          },
          "execution_count": 15
        },
        {
          "output_type": "display_data",
          "data": {
            "image/png": "[encoded data removed]",
            "text/plain": [
              "<matplotlib.figure.Figure at 0x7f1ef83d4588>"
            ]
          },
          "metadata": {
            "tags": []
          }
        }
      ]
    },
    {
      "metadata": {
        "id": "cz6g8EBw31WO",
        "colab_type": "code",
        "colab": {}
      },
      "cell_type": "code",
      "source": [
        "new_data_genre_lyrics = [subset_data.iloc[i,:] for i in range(len(subset_data)) if len(str(subset_data.iloc[i,1])) >= 200 and len(str(subset_data.iloc[i,1])) <=3000 and subset_data.iloc[i,1]]\n"
      ],
      "execution_count": 0,
      "outputs": []
    },
    {
      "metadata": {
        "id": "zRF3e9-aPCtO",
        "colab_type": "code",
        "outputId": "c8cfabd2-3e82-4af9-e36f-e0c1876ca47a",
        "colab": {
          "base_uri": "https://localhost:8080/",
          "height": 35
        }
      },
      "cell_type": "code",
      "source": [
        "print(len(new_data_genre_lyrics))"
      ],
      "execution_count": 0,
      "outputs": [
        {
          "output_type": "stream",
          "text": [
            "219911\n"
          ],
          "name": "stdout"
        }
      ]
    },
    {
      "metadata": {
        "id": "7WED_McC5F1A",
        "colab_type": "code",
        "colab": {}
      },
      "cell_type": "code",
      "source": [
        "cropped_data = pandas.DataFrame(new_data_genre_lyrics)"
      ],
      "execution_count": 0,
      "outputs": []
    },
    {
      "metadata": {
        "id": "nTIyCyRJ6xWK",
        "colab_type": "code",
        "outputId": "c84b2d87-bf74-4e5e-f65a-f018aeb8ff19",
        "colab": {
          "base_uri": "https://localhost:8080/",
          "height": 4399
        }
      },
      "cell_type": "code",
      "source": [
        "new_data_genre_lyrics = np.array(cropped_data.iloc[0,:])\n",
        "for i in range(1,len(cropped_data)):\n",
        "  if (i%1000 == 0):\n",
        "    print(i)\n",
        "  try:\n",
        "    if detect(str(cropped_data.iloc[i,1][0:50]))=='en':\n",
        "      new_data_genre_lyrics = np.vstack((new_data_genre_lyrics,np.array([cropped_data.iloc[i,:]]))) \n",
        "  except:\n",
        "    print(\"not language\")"
      ],
      "execution_count": 0,
      "outputs": [
        {
          "output_type": "stream",
          "text": [
            "1000\n",
            "2000\n",
            "3000\n",
            "4000\n",
            "5000\n",
            "6000\n",
            "7000\n",
            "8000\n",
            "9000\n",
            "not language\n",
            "10000\n",
            "11000\n",
            "12000\n",
            "13000\n",
            "not language\n",
            "14000\n",
            "not language\n",
            "15000\n",
            "16000\n",
            "17000\n",
            "18000\n",
            "19000\n",
            "20000\n",
            "21000\n",
            "22000\n",
            "23000\n",
            "24000\n",
            "25000\n",
            "26000\n",
            "27000\n",
            "28000\n",
            "29000\n",
            "30000\n",
            "31000\n",
            "32000\n",
            "33000\n",
            "34000\n",
            "35000\n",
            "36000\n",
            "37000\n",
            "not language\n",
            "38000\n",
            "39000\n",
            "40000\n",
            "41000\n",
            "42000\n",
            "43000\n",
            "44000\n",
            "45000\n",
            "46000\n",
            "47000\n",
            "48000\n",
            "49000\n",
            "50000\n",
            "51000\n",
            "52000\n",
            "53000\n",
            "not language\n",
            "54000\n",
            "55000\n",
            "56000\n",
            "57000\n",
            "58000\n",
            "59000\n",
            "60000\n",
            "61000\n",
            "62000\n",
            "63000\n",
            "64000\n",
            "65000\n",
            "66000\n",
            "67000\n",
            "68000\n",
            "69000\n",
            "70000\n",
            "not language\n",
            "not language\n",
            "not language\n",
            "not language\n",
            "not language\n",
            "not language\n",
            "not language\n",
            "not language\n",
            "not language\n",
            "71000\n",
            "72000\n",
            "73000\n",
            "74000\n",
            "75000\n",
            "76000\n",
            "77000\n",
            "78000\n",
            "79000\n",
            "80000\n",
            "81000\n",
            "82000\n",
            "83000\n",
            "84000\n",
            "85000\n",
            "86000\n",
            "87000\n",
            "88000\n",
            "89000\n",
            "90000\n",
            "91000\n",
            "92000\n",
            "93000\n",
            "94000\n",
            "95000\n",
            "96000\n",
            "97000\n",
            "98000\n",
            "99000\n",
            "100000\n",
            "101000\n",
            "102000\n",
            "103000\n",
            "104000\n",
            "105000\n",
            "106000\n",
            "107000\n",
            "108000\n",
            "109000\n",
            "110000\n",
            "111000\n",
            "112000\n",
            "113000\n",
            "114000\n",
            "115000\n",
            "116000\n",
            "117000\n",
            "118000\n",
            "119000\n",
            "120000\n",
            "121000\n",
            "122000\n",
            "123000\n",
            "124000\n",
            "125000\n",
            "126000\n",
            "127000\n",
            "128000\n",
            "129000\n",
            "130000\n",
            "131000\n",
            "132000\n",
            "133000\n",
            "134000\n",
            "135000\n",
            "not language\n",
            "136000\n",
            "137000\n",
            "138000\n",
            "139000\n",
            "140000\n",
            "141000\n",
            "142000\n",
            "143000\n",
            "not language\n",
            "not language\n",
            "not language\n",
            "not language\n",
            "not language\n",
            "not language\n",
            "not language\n",
            "not language\n",
            "144000\n",
            "145000\n",
            "146000\n",
            "147000\n",
            "148000\n",
            "149000\n",
            "150000\n",
            "151000\n",
            "152000\n",
            "153000\n",
            "154000\n",
            "155000\n",
            "156000\n",
            "157000\n",
            "158000\n",
            "159000\n",
            "160000\n",
            "161000\n",
            "162000\n",
            "163000\n",
            "164000\n",
            "165000\n",
            "166000\n",
            "167000\n",
            "168000\n",
            "169000\n",
            "170000\n",
            "171000\n",
            "not language\n",
            "not language\n",
            "not language\n",
            "172000\n",
            "173000\n",
            "174000\n",
            "175000\n",
            "not language\n",
            "176000\n",
            "177000\n",
            "178000\n",
            "179000\n",
            "180000\n",
            "181000\n",
            "182000\n",
            "183000\n",
            "184000\n",
            "185000\n",
            "186000\n",
            "187000\n",
            "not language\n",
            "188000\n",
            "189000\n",
            "190000\n",
            "191000\n",
            "192000\n",
            "193000\n",
            "194000\n",
            "195000\n",
            "196000\n",
            "197000\n",
            "198000\n",
            "not language\n",
            "199000\n",
            "200000\n",
            "not language\n",
            "201000\n",
            "202000\n",
            "203000\n",
            "204000\n",
            "205000\n",
            "206000\n",
            "207000\n",
            "208000\n",
            "209000\n",
            "210000\n",
            "211000\n",
            "212000\n",
            "213000\n",
            "214000\n",
            "215000\n",
            "216000\n",
            "217000\n",
            "218000\n",
            "219000\n"
          ],
          "name": "stdout"
        }
      ]
    },
    {
      "metadata": {
        "id": "b01YhWSW1nIi",
        "colab_type": "code",
        "outputId": "deb8e1e7-aea3-4246-ebb9-6c99b3b499af",
        "colab": {
          "base_uri": "https://localhost:8080/",
          "height": 35
        }
      },
      "cell_type": "code",
      "source": [
        "print(len(new_data_genre_lyrics))"
      ],
      "execution_count": 0,
      "outputs": [
        {
          "output_type": "stream",
          "text": [
            "194922\n"
          ],
          "name": "stdout"
        }
      ]
    },
    {
      "metadata": {
        "id": "RLO4jTAY1YuM",
        "colab_type": "code",
        "colab": {}
      },
      "cell_type": "code",
      "source": [
        "cropped_data = pandas.DataFrame(new_data_genre_lyrics)"
      ],
      "execution_count": 0,
      "outputs": []
    },
    {
      "metadata": {
        "id": "R67Ke5XAT20E",
        "colab_type": "code",
        "colab": {}
      },
      "cell_type": "code",
      "source": [
        "cropped_data.columns = ['Genre','Lyrics']"
      ],
      "execution_count": 0,
      "outputs": []
    },
    {
      "metadata": {
        "id": "D4hdJIP6UCA4",
        "colab_type": "code",
        "outputId": "2aa0d472-5803-4d69-fb38-0f4abd53cfd8",
        "colab": {
          "base_uri": "https://localhost:8080/",
          "height": 203
        }
      },
      "cell_type": "code",
      "source": [
        "cropped_data.head()"
      ],
      "execution_count": 0,
      "outputs": [
        {
          "output_type": "execute_result",
          "data": {
            "text/html": [
              "<div>\n",
              "<style scoped>\n",
              "    .dataframe tbody tr th:only-of-type {\n",
              "        vertical-align: middle;\n",
              "    }\n",
              "\n",
              "    .dataframe tbody tr th {\n",
              "        vertical-align: top;\n",
              "    }\n",
              "\n",
              "    .dataframe thead th {\n",
              "        text-align: right;\n",
              "    }\n",
              "</style>\n",
              "<table border=\"1\" class=\"dataframe\">\n",
              "  <thead>\n",
              "    <tr style=\"text-align: right;\">\n",
              "      <th></th>\n",
              "      <th>Genre</th>\n",
              "      <th>Lyrics</th>\n",
              "    </tr>\n",
              "  </thead>\n",
              "  <tbody>\n",
              "    <tr>\n",
              "      <th>0</th>\n",
              "      <td>Pop</td>\n",
              "      <td>Oh baby, how you doing?\\nYou know I'm gonna cu...</td>\n",
              "    </tr>\n",
              "    <tr>\n",
              "      <th>1</th>\n",
              "      <td>Pop</td>\n",
              "      <td>playin' everything so easy,\\nit's like you see...</td>\n",
              "    </tr>\n",
              "    <tr>\n",
              "      <th>2</th>\n",
              "      <td>Pop</td>\n",
              "      <td>If you search\\nFor tenderness\\nIt isn't hard t...</td>\n",
              "    </tr>\n",
              "    <tr>\n",
              "      <th>3</th>\n",
              "      <td>Pop</td>\n",
              "      <td>Oh oh oh I, oh oh oh I\\n[Verse 1:]\\nIf I wrote...</td>\n",
              "    </tr>\n",
              "    <tr>\n",
              "      <th>4</th>\n",
              "      <td>Pop</td>\n",
              "      <td>Party the people, the people the party it's po...</td>\n",
              "    </tr>\n",
              "  </tbody>\n",
              "</table>\n",
              "</div>"
            ],
            "text/plain": [
              "  Genre                                             Lyrics\n",
              "0   Pop  Oh baby, how you doing?\\nYou know I'm gonna cu...\n",
              "1   Pop  playin' everything so easy,\\nit's like you see...\n",
              "2   Pop  If you search\\nFor tenderness\\nIt isn't hard t...\n",
              "3   Pop  Oh oh oh I, oh oh oh I\\n[Verse 1:]\\nIf I wrote...\n",
              "4   Pop  Party the people, the people the party it's po..."
            ]
          },
          "metadata": {
            "tags": []
          },
          "execution_count": 33
        }
      ]
    },
    {
      "metadata": {
        "id": "MRVvYQELUFfz",
        "colab_type": "code",
        "colab": {}
      },
      "cell_type": "code",
      "source": [
        "cropped_data.to_csv(\"english_data.csv\")"
      ],
      "execution_count": 0,
      "outputs": []
    },
    {
      "metadata": {
        "id": "LYYa1zT75pRb",
        "colab_type": "code",
        "outputId": "4d75a26a-c519-49dc-d107-6f2ae8076e7e",
        "colab": {
          "base_uri": "https://localhost:8080/",
          "height": 211
        }
      },
      "cell_type": "code",
      "source": [
        "print(cropped_data.iloc[0:10,:])"
      ],
      "execution_count": 0,
      "outputs": [
        {
          "output_type": "stream",
          "text": [
            "  Genre                                             Lyrics\n",
            "0   Pop  Oh baby, how you doing?\\nYou know I'm gonna cu...\n",
            "1   Pop  playin' everything so easy,\\nit's like you see...\n",
            "2   Pop  If you search\\nFor tenderness\\nIt isn't hard t...\n",
            "3   Pop  Oh oh oh I, oh oh oh I\\n[Verse 1:]\\nIf I wrote...\n",
            "4   Pop  Party the people, the people the party it's po...\n",
            "5   Pop  I heard\\nChurch bells ringing\\nI heard\\nA choi...\n",
            "6   Pop  This is just another day that I would spend\\nW...\n",
            "7   Pop  [Verse 1:]\\nI read all of the magazines\\nwhile...\n",
            "8   Pop  N-n-now, honey\\nYou better sit down and look a...\n",
            "9   Pop  I lay alone awake at night\\nSorrow fills my ey...\n"
          ],
          "name": "stdout"
        }
      ]
    },
    {
      "metadata": {
        "id": "2tmr7iGJ6IHe",
        "colab_type": "code",
        "outputId": "7f170366-cbad-4b42-fa4e-33fefcc5e9b9",
        "colab": {
          "base_uri": "https://localhost:8080/",
          "height": 35
        }
      },
      "cell_type": "code",
      "source": [
        "num_words_cropped = [len(str(cropped_data.iloc[i,1])) for i in range(len(cropped_data))]\n",
        "print(num_words_cropped[0:10])"
      ],
      "execution_count": 0,
      "outputs": [
        {
          "output_type": "stream",
          "text": [
            "[1961, 1270, 827, 2344, 1540, 632, 1408, 2110, 1595, 1210]\n"
          ],
          "name": "stdout"
        }
      ]
    },
    {
      "metadata": {
        "id": "fZrDSmCN7wDG",
        "colab_type": "code",
        "outputId": "e811dbf3-e487-47ae-c0a9-3c6b05274f52",
        "colab": {
          "base_uri": "https://localhost:8080/",
          "height": 705
        }
      },
      "cell_type": "code",
      "source": [
        "plt.hist(num_words_cropped,100)"
      ],
      "execution_count": 0,
      "outputs": [
        {
          "output_type": "execute_result",
          "data": {
            "text/plain": [
              "(array([ 713.,  824.,  964., 1221., 1515., 1827., 2077., 2571., 2866.,\n",
              "        3219., 3535., 4030., 4289., 4521., 4508., 4887., 4893., 4996.,\n",
              "        5004., 4999., 5002., 4982., 4916., 4765., 4716., 4624., 4473.,\n",
              "        4400., 4396., 4103., 3992., 4017., 3785., 3609., 3525., 3328.,\n",
              "        3209., 3162., 2935., 2879., 2625., 2535., 2453., 2308., 2101.,\n",
              "        2010., 1990., 1824., 1784., 1606., 1565., 1395., 1364., 1227.,\n",
              "        1202., 1098., 1047.,  989.,  968.,  906.,  765.,  813.,  803.,\n",
              "         759.,  639.,  724.,  622.,  611.,  583.,  515.,  503.,  497.,\n",
              "         499.,  429.,  460.,  450.,  414.,  419.,  439.,  403.,  359.,\n",
              "         346.,  385.,  392.,  364.,  316.,  348.,  284.,  348.,  319.,\n",
              "         289.,  279.,  299.,  285.,  325.,  283.,  295.,  273.,  220.,\n",
              "         292.]),\n",
              " array([ 200.,  228.,  256.,  284.,  312.,  340.,  368.,  396.,  424.,\n",
              "         452.,  480.,  508.,  536.,  564.,  592.,  620.,  648.,  676.,\n",
              "         704.,  732.,  760.,  788.,  816.,  844.,  872.,  900.,  928.,\n",
              "         956.,  984., 1012., 1040., 1068., 1096., 1124., 1152., 1180.,\n",
              "        1208., 1236., 1264., 1292., 1320., 1348., 1376., 1404., 1432.,\n",
              "        1460., 1488., 1516., 1544., 1572., 1600., 1628., 1656., 1684.,\n",
              "        1712., 1740., 1768., 1796., 1824., 1852., 1880., 1908., 1936.,\n",
              "        1964., 1992., 2020., 2048., 2076., 2104., 2132., 2160., 2188.,\n",
              "        2216., 2244., 2272., 2300., 2328., 2356., 2384., 2412., 2440.,\n",
              "        2468., 2496., 2524., 2552., 2580., 2608., 2636., 2664., 2692.,\n",
              "        2720., 2748., 2776., 2804., 2832., 2860., 2888., 2916., 2944.,\n",
              "        2972., 3000.]),\n",
              " <a list of 100 Patch objects>)"
            ]
          },
          "metadata": {
            "tags": []
          },
          "execution_count": 37
        },
        {
          "output_type": "display_data",
          "data": {
            "image/png": "[encoded data removed]",
            "text/plain": [
              "<matplotlib.figure.Figure at 0x7f1ef7f2e5c0>"
            ]
          },
          "metadata": {
            "tags": []
          }
        }
      ]
    },
    {
      "metadata": {
        "id": "CFez8NBMGmhc",
        "colab_type": "code",
        "outputId": "dac7fc0a-9046-4c43-b3e9-220dab718297",
        "colab": {
          "base_uri": "https://localhost:8080/",
          "height": 670
        }
      },
      "cell_type": "code",
      "source": [
        "print(np.mean(num_words_cropped))\n",
        "print(np.max(num_words_cropped))\n",
        "print(np.min(num_words_cropped))\n",
        "print(np.std(num_words_cropped))\n",
        "\n",
        "mean = np.mean(num_words_cropped)\n",
        "std = np.std(num_words_cropped)\n",
        "values = np.random.normal(mean,std,10000)\n",
        "plt.hist(values,50)"
      ],
      "execution_count": 0,
      "outputs": [
        {
          "output_type": "stream",
          "text": [
            "1073.7508285365427\n",
            "3000\n",
            "200\n",
            "546.7070582781865\n"
          ],
          "name": "stdout"
        },
        {
          "output_type": "execute_result",
          "data": {
            "text/plain": [
              "(array([  1.,   1.,   3.,   7.,   6.,  10.,  11.,  23.,  23.,  47.,  49.,\n",
              "         90., 118., 137., 186., 247., 303., 312., 401., 477., 513., 515.,\n",
              "        565., 608., 598., 613., 562., 541., 531., 457., 399., 353., 300.,\n",
              "        254., 198., 156., 106.,  79.,  62.,  41.,  34.,  27.,  17.,   8.,\n",
              "          3.,   3.,   4.,   0.,   0.,   1.]),\n",
              " array([-977.69518728, -893.93741997, -810.17965265, -726.42188534,\n",
              "        -642.66411803, -558.90635071, -475.1485834 , -391.39081608,\n",
              "        -307.63304877, -223.87528145, -140.11751414,  -56.35974683,\n",
              "          27.39802049,  111.1557878 ,  194.91355512,  278.67132243,\n",
              "         362.42908975,  446.18685706,  529.94462437,  613.70239169,\n",
              "         697.460159  ,  781.21792632,  864.97569363,  948.73346095,\n",
              "        1032.49122826, 1116.24899558, 1200.00676289, 1283.7645302 ,\n",
              "        1367.52229752, 1451.28006483, 1535.03783215, 1618.79559946,\n",
              "        1702.55336678, 1786.31113409, 1870.0689014 , 1953.82666872,\n",
              "        2037.58443603, 2121.34220335, 2205.09997066, 2288.85773798,\n",
              "        2372.61550529, 2456.37327261, 2540.13103992, 2623.88880723,\n",
              "        2707.64657455, 2791.40434186, 2875.16210918, 2958.91987649,\n",
              "        3042.67764381, 3126.43541112, 3210.19317843]),\n",
              " <a list of 50 Patch objects>)"
            ]
          },
          "metadata": {
            "tags": []
          },
          "execution_count": 38
        },
        {
          "output_type": "display_data",
          "data": {
            "image/png": "[encoded data removed]",
            "text/plain": [
              "<matplotlib.figure.Figure at 0x7f1ef6368a58>"
            ]
          },
          "metadata": {
            "tags": []
          }
        }
      ]
    },
    {
      "metadata": {
        "id": "xcBdRpBFAWHv",
        "colab_type": "code",
        "outputId": "6f107ea0-d191-4986-e61a-4b07ea31e121",
        "colab": {
          "base_uri": "https://localhost:8080/",
          "height": 52
        }
      },
      "cell_type": "code",
      "source": [
        "cropped_data.Genre.unique()"
      ],
      "execution_count": 0,
      "outputs": [
        {
          "output_type": "execute_result",
          "data": {
            "text/plain": [
              "array(['Pop', 'Hip-Hop', 'Rock', 'Metal', 'Country', 'Jazz', 'Electronic',\n",
              "       'Folk', 'R&B', 'Indie'], dtype=object)"
            ]
          },
          "metadata": {
            "tags": []
          },
          "execution_count": 40
        }
      ]
    },
    {
      "metadata": {
        "id": "VMFkP_m1Ai0J",
        "colab_type": "code",
        "outputId": "f47678fa-b5db-427f-9244-ab9e222dae91",
        "colab": {
          "base_uri": "https://localhost:8080/",
          "height": 35
        }
      },
      "cell_type": "code",
      "source": [
        "song_counts = np.zeros(10)\n",
        "\n",
        "for i in range(len(cropped_data)):\n",
        "  if cropped_data.iloc[i,0] == 'Pop':\n",
        "    song_counts[0] = song_counts[0] + 1\n",
        "  elif cropped_data.iloc[i,0] == 'Hip-Hop':\n",
        "    song_counts[1] = song_counts[1] + 1\n",
        "  elif cropped_data.iloc[i,0] == 'Rock':\n",
        "    song_counts[2] = song_counts[2] + 1\n",
        "  elif cropped_data.iloc[i,0] == 'Metal':\n",
        "    song_counts[3] = song_counts[3] + 1\n",
        "  elif cropped_data.iloc[i,0] == 'Country':\n",
        "    song_counts[4] = song_counts[4] + 1\n",
        "  elif cropped_data.iloc[i,0] == 'Jazz':\n",
        "    song_counts[5] = song_counts[5] + 1\n",
        "  elif cropped_data.iloc[i,0] == 'Electronic':\n",
        "    song_counts[6] = song_counts[6] + 1\n",
        "  elif cropped_data.iloc[i,0] == 'Folk':\n",
        "    song_counts[7] = song_counts[7] + 1\n",
        "  elif cropped_data.iloc[i,0] == 'R&B':\n",
        "    song_counts[8] = song_counts[8] + 1\n",
        "  elif cropped_data.iloc[i,0] == 'Indie':\n",
        "    song_counts[9] = song_counts[9] + 1\n",
        "\n",
        "print(song_counts)"
      ],
      "execution_count": 0,
      "outputs": [
        {
          "output_type": "stream",
          "text": [
            "[31898. 14077. 94762. 19919. 13638.  6864.  6203.  1656.  3098.  2807.]\n"
          ],
          "name": "stdout"
        }
      ]
    },
    {
      "metadata": {
        "id": "McE7dDjGCSy-",
        "colab_type": "code",
        "outputId": "45884e63-4acf-410d-e0cc-912bbbe14d06",
        "colab": {
          "base_uri": "https://localhost:8080/",
          "height": 600
        }
      },
      "cell_type": "code",
      "source": [
        "plt.pie(song_counts, labels = cropped_data.Genre.unique())"
      ],
      "execution_count": 0,
      "outputs": [
        {
          "output_type": "execute_result",
          "data": {
            "text/plain": [
              "([<matplotlib.patches.Wedge at 0x7f1ef589ecc0>,\n",
              "  <matplotlib.patches.Wedge at 0x7f1ef589f588>,\n",
              "  <matplotlib.patches.Wedge at 0x7f1ef589fbe0>,\n",
              "  <matplotlib.patches.Wedge at 0x7f1ef670c160>,\n",
              "  <matplotlib.patches.Wedge at 0x7f1ef64d8d30>,\n",
              "  <matplotlib.patches.Wedge at 0x7f1ef64d84a8>,\n",
              "  <matplotlib.patches.Wedge at 0x7f1ef5893358>,\n",
              "  <matplotlib.patches.Wedge at 0x7f1ef64d7898>,\n",
              "  <matplotlib.patches.Wedge at 0x7f1ef64d4748>,\n",
              "  <matplotlib.patches.Wedge at 0x7f1ef60c1f98>],\n",
              " [Text(0.957806,0.540932,'Pop'),\n",
              "  Text(0.341534,1.04564,'Hip-Hop'),\n",
              "  Text(-1.09038,0.14513,'Rock'),\n",
              "  Text(0.159176,-1.08842,'Metal'),\n",
              "  Text(0.696843,-0.851123,'Country'),\n",
              "  Text(0.935295,-0.578985,'Jazz'),\n",
              "  Text(1.03567,-0.370669,'Electronic'),\n",
              "  Text(1.07419,-0.236868,'Folk'),\n",
              "  Text(1.08917,-0.153947,'R&B'),\n",
              "  Text(1.09887,-0.0497481,'Indie')])"
            ]
          },
          "metadata": {
            "tags": []
          },
          "execution_count": 43
        },
        {
          "output_type": "display_data",
          "data": {
            "image/png": "[encoded data removed]",
            "text/plain": [
              "<matplotlib.figure.Figure at 0x7f1ef6366ba8>"
            ]
          },
          "metadata": {
            "tags": []
          }
        }
      ]
    },
    {
      "metadata": {
        "id": "f4H-MvNe3ieU",
        "colab_type": "code",
        "outputId": "d0d1dbf3-c924-4ce8-e297-26dc6c29960d",
        "colab": {
          "base_uri": "https://localhost:8080/",
          "height": 35
        }
      },
      "cell_type": "code",
      "source": [
        "subset_data = [cropped_data.iloc[i,:] for i in range(len(cropped_data)) if cropped_data.iloc[i,0] !='Jazz' and cropped_data.iloc[i,0] != 'R&B' and cropped_data.iloc[i,0] != 'Indie' and cropped_data.iloc[i,0] != 'Folk' and cropped_data.iloc[i,0] != 'Electronic']\n",
        "print(len(subset_data))"
      ],
      "execution_count": 0,
      "outputs": [
        {
          "output_type": "stream",
          "text": [
            "174294\n"
          ],
          "name": "stdout"
        }
      ]
    },
    {
      "metadata": {
        "id": "J5RgpA0I4L2t",
        "colab_type": "code",
        "outputId": "2ae74ad4-1b1a-4fcb-9ddd-c1a2552a9bb4",
        "colab": {
          "base_uri": "https://localhost:8080/",
          "height": 35
        }
      },
      "cell_type": "code",
      "source": [
        "song_counts = np.zeros(5)\n",
        "\n",
        "for i in range(len(cropped_data)):\n",
        "  if cropped_data.iloc[i,0] == 'Pop':\n",
        "    song_counts[0] = song_counts[0] + 1\n",
        "  elif cropped_data.iloc[i,0] == 'Hip-Hop':\n",
        "    song_counts[1] = song_counts[1] + 1\n",
        "  elif cropped_data.iloc[i,0] == 'Rock':\n",
        "    song_counts[2] = song_counts[2] + 1\n",
        "  elif cropped_data.iloc[i,0] == 'Metal':\n",
        "    song_counts[3] = song_counts[3] + 1\n",
        "  elif cropped_data.iloc[i,0] == 'Country':\n",
        "    song_counts[4] = song_counts[4] + 1\n",
        "\n",
        "print(song_counts)"
      ],
      "execution_count": 0,
      "outputs": [
        {
          "output_type": "stream",
          "text": [
            "[31898. 14077. 94762. 19919. 13638.]\n"
          ],
          "name": "stdout"
        }
      ]
    },
    {
      "metadata": {
        "id": "2HjMJVOM4n5c",
        "colab_type": "code",
        "colab": {}
      },
      "cell_type": "code",
      "source": [
        "cropped_data = pandas.DataFrame(subset_data)"
      ],
      "execution_count": 0,
      "outputs": []
    },
    {
      "metadata": {
        "id": "ZImqqHgR4aQX",
        "colab_type": "code",
        "outputId": "59465389-3ce5-48bb-81cc-b9a0d81ab9d9",
        "colab": {
          "base_uri": "https://localhost:8080/",
          "height": 424
        }
      },
      "cell_type": "code",
      "source": [
        "plt.pie(song_counts, labels = cropped_data.Genre.unique())"
      ],
      "execution_count": 0,
      "outputs": [
        {
          "output_type": "execute_result",
          "data": {
            "text/plain": [
              "([<matplotlib.patches.Wedge at 0x7f1ee65dd898>,\n",
              "  <matplotlib.patches.Wedge at 0x7f1ee65ddd68>,\n",
              "  <matplotlib.patches.Wedge at 0x7f1ee65d12e8>,\n",
              "  <matplotlib.patches.Wedge at 0x7f1ee65d1828>,\n",
              "  <matplotlib.patches.Wedge at 0x7f1ee65d1d68>],\n",
              " [Text(0.923141,0.598173,'Pop'),\n",
              "  Text(0.183022,1.08467,'Hip-Hop'),\n",
              "  Text(-1.07256,-0.244163,'Rock'),\n",
              "  Text(0.725424,-0.826898,'Metal'),\n",
              "  Text(1.06693,-0.267687,'Country')])"
            ]
          },
          "metadata": {
            "tags": []
          },
          "execution_count": 48
        },
        {
          "output_type": "display_data",
          "data": {
            "image/png": "[encoded data removed]",
            "text/plain": [
              "<matplotlib.figure.Figure at 0x7f1ef637e8d0>"
            ]
          },
          "metadata": {
            "tags": []
          }
        }
      ]
    },
    {
      "metadata": {
        "id": "SbfQZeD44zvq",
        "colab_type": "code",
        "colab": {}
      },
      "cell_type": "code",
      "source": [
        "random_pop = random.sample(range(int(song_counts[0])), 10000)\n",
        "random_hip_hop = random.sample(range(int(song_counts[1])), 10000)\n",
        "random_rock = random.sample(range(int(song_counts[2])), 10000)\n",
        "random_metal = random.sample(range(int(song_counts[3])), 10000)\n",
        "random_country = random.sample(range(int(song_counts[4])), 10000)"
      ],
      "execution_count": 0,
      "outputs": []
    },
    {
      "metadata": {
        "id": "QBjLJHkX51La",
        "colab_type": "code",
        "colab": {}
      },
      "cell_type": "code",
      "source": [
        "pop_data = [cropped_data.iloc[i,:] for i in range(len(cropped_data)) if cropped_data.iloc[i,0] =='Pop']\n",
        "hip_hop_data = [cropped_data.iloc[i,:] for i in range(len(cropped_data)) if cropped_data.iloc[i,0] =='Hip-Hop']\n",
        "rock_data = [cropped_data.iloc[i,:] for i in range(len(cropped_data)) if cropped_data.iloc[i,0] =='Rock']\n",
        "metal_data = [cropped_data.iloc[i,:] for i in range(len(cropped_data)) if cropped_data.iloc[i,0] =='Metal']\n",
        "country_data = [cropped_data.iloc[i,:] for i in range(len(cropped_data)) if cropped_data.iloc[i,0] =='Country']"
      ],
      "execution_count": 0,
      "outputs": []
    },
    {
      "metadata": {
        "id": "8TjysvC36lS5",
        "colab_type": "code",
        "outputId": "603975bf-204c-4c8c-eb1f-6d1a00404317",
        "colab": {
          "base_uri": "https://localhost:8080/",
          "height": 105
        }
      },
      "cell_type": "code",
      "source": [
        "print(len(pop_data))\n",
        "print(len(hip_hop_data))\n",
        "print(len(rock_data))\n",
        "print(len(metal_data))\n",
        "print(len(country_data))"
      ],
      "execution_count": 0,
      "outputs": [
        {
          "output_type": "stream",
          "text": [
            "31898\n",
            "14077\n",
            "94762\n",
            "19919\n",
            "13638\n"
          ],
          "name": "stdout"
        }
      ]
    },
    {
      "metadata": {
        "id": "wgVnbaWv6xBW",
        "colab_type": "code",
        "colab": {}
      },
      "cell_type": "code",
      "source": [
        "pop_data = [pop_data[i] for i in random_pop]\n",
        "hip_hop_data = [hip_hop_data[i] for i in random_hip_hop]\n",
        "rock_data = [rock_data[i] for i in random_rock]\n",
        "metal_data = [metal_data[i] for i in random_metal]\n",
        "country_data = [country_data[i] for i in random_country]"
      ],
      "execution_count": 0,
      "outputs": []
    },
    {
      "metadata": {
        "id": "dsf1VVho7Pv3",
        "colab_type": "code",
        "outputId": "e20abae4-792c-4548-d022-ac1f562c2d83",
        "colab": {
          "base_uri": "https://localhost:8080/",
          "height": 105
        }
      },
      "cell_type": "code",
      "source": [
        "print(len(pop_data))\n",
        "print(len(hip_hop_data))\n",
        "print(len(rock_data))\n",
        "print(len(metal_data))\n",
        "print(len(country_data))"
      ],
      "execution_count": 0,
      "outputs": [
        {
          "output_type": "stream",
          "text": [
            "10000\n",
            "10000\n",
            "10000\n",
            "10000\n",
            "10000\n"
          ],
          "name": "stdout"
        }
      ]
    },
    {
      "metadata": {
        "id": "-EoCBuz5-ceZ",
        "colab_type": "code",
        "colab": {}
      },
      "cell_type": "code",
      "source": [
        "data = np.vstack((pop_data,hip_hop_data,rock_data,metal_data,country_data))\n"
      ],
      "execution_count": 0,
      "outputs": []
    },
    {
      "metadata": {
        "id": "Y-fnTmJp-8Aa",
        "colab_type": "code",
        "outputId": "d8f0e92e-5e38-4ed0-ebf1-217d7833026d",
        "colab": {
          "base_uri": "https://localhost:8080/",
          "height": 35
        }
      },
      "cell_type": "code",
      "source": [
        "print(data.shape)"
      ],
      "execution_count": 0,
      "outputs": [
        {
          "output_type": "stream",
          "text": [
            "(50000, 2)\n"
          ],
          "name": "stdout"
        }
      ]
    },
    {
      "metadata": {
        "id": "7KcFAYUQ82zn",
        "colab_type": "code",
        "outputId": "b0797a53-c7a3-4e28-f78a-3ce4a556d591",
        "colab": {
          "base_uri": "https://localhost:8080/",
          "height": 35
        }
      },
      "cell_type": "code",
      "source": [
        "song_counts = np.zeros(5)\n",
        "\n",
        "for i in range(len(data)):\n",
        "  if data[i,0] == 'Pop':\n",
        "    song_counts[0] = song_counts[0] + 1\n",
        "  elif data[i,0] == 'Hip-Hop':\n",
        "    song_counts[1] = song_counts[1] + 1\n",
        "  elif data[i,0] == 'Rock':\n",
        "    song_counts[2] = song_counts[2] + 1\n",
        "  elif data[i,0] == 'Metal':\n",
        "    song_counts[3] = song_counts[3] + 1\n",
        "  elif data[i,0] == 'Country':\n",
        "    song_counts[4] = song_counts[4] + 1\n",
        "\n",
        "print(song_counts)"
      ],
      "execution_count": 0,
      "outputs": [
        {
          "output_type": "stream",
          "text": [
            "[10000. 10000. 10000. 10000. 10000.]\n"
          ],
          "name": "stdout"
        }
      ]
    },
    {
      "metadata": {
        "id": "h0tewi8KB3uV",
        "colab_type": "code",
        "outputId": "49a5d038-d67f-4ef4-f808-41eaf6afab56",
        "colab": {
          "base_uri": "https://localhost:8080/",
          "height": 424
        }
      },
      "cell_type": "code",
      "source": [
        "plt.pie(song_counts, labels = np.unique(data[:,0]))"
      ],
      "execution_count": 0,
      "outputs": [
        {
          "output_type": "execute_result",
          "data": {
            "text/plain": [
              "([<matplotlib.patches.Wedge at 0x7f1ede466320>,\n",
              "  <matplotlib.patches.Wedge at 0x7f1ede466f60>,\n",
              "  <matplotlib.patches.Wedge at 0x7f1ede48c1d0>,\n",
              "  <matplotlib.patches.Wedge at 0x7f1ede49f748>,\n",
              "  <matplotlib.patches.Wedge at 0x7f1ede431b00>],\n",
              " [Text(0.889919,0.646564,'Country'),\n",
              "  Text(-0.339919,1.04616,'Hip-Hop'),\n",
              "  Text(-1.1,-5.14947e-08,'Metal'),\n",
              "  Text(-0.339919,-1.04616,'Pop'),\n",
              "  Text(0.889919,-0.646564,'Rock')])"
            ]
          },
          "metadata": {
            "tags": []
          },
          "execution_count": 69
        },
        {
          "output_type": "display_data",
          "data": {
            "image/png": "[encoded data removed]",
            "text/plain": [
              "<matplotlib.figure.Figure at 0x7f1ede65f128>"
            ]
          },
          "metadata": {
            "tags": []
          }
        }
      ]
    },
    {
      "metadata": {
        "id": "mNw3LLwVFTc_",
        "colab_type": "code",
        "colab": {}
      },
      "cell_type": "code",
      "source": [
        "data[:,1] =[data[i,1].lower().replace('-',' ').replace('?','').replace('.','').replace(',','').replace('!','').replace('[','').replace(']','').replace('\\n',' ').replace(':','').replace('(','').replace(')','') for i in range(len(data))]"
      ],
      "execution_count": 0,
      "outputs": []
    },
    {
      "metadata": {
        "id": "dJwSbpoOXfY8",
        "colab_type": "code",
        "outputId": "e6aa56d2-476c-416c-9423-19cd9ceb5a1a",
        "colab": {
          "base_uri": "https://localhost:8080/",
          "height": 90
        }
      },
      "cell_type": "code",
      "source": [
        "print(data[1,:])\n",
        "print(np.shape(data))"
      ],
      "execution_count": 0,
      "outputs": [
        {
          "output_type": "stream",
          "text": [
            "['Pop'\n",
            " \"don't grow sad wondering where you went wrong don't go mad just carry on there's a feeling you get when there's nowhere to run when there's no one to feel safe around there's a change in the air when there's somebody there as the walls all come tumbling down and when you're falling when you're falling i'll be there somehow i'll hear you calling hear you calling when the light goes out don't slow down fears closing in right behind and there's no way out you can see but to hold on to your desperation and rage cause it's all that you dare ever know you can change everything with the turn of a page but you fight and refuse to let go and when you're falling when you're falling i'll be there somehow i hear you calling hear you calling when the light goes out do you fear what you hear when the light goes out can you feel that i'm near when the light goes out and when you're falling when you're falling i'll be there somehow i hear you calling hear you calling when the light goes out do you fear what you hear when the light goes out can you feel that i'm near when the light goes out\"]\n",
            "(50000, 2)\n"
          ],
          "name": "stdout"
        }
      ]
    },
    {
      "metadata": {
        "id": "ocrEtse8XBq1",
        "colab_type": "code",
        "colab": {}
      },
      "cell_type": "code",
      "source": [
        "num_words = [len(data[i,1]) for i in range(len(data))]\n"
      ],
      "execution_count": 0,
      "outputs": []
    },
    {
      "metadata": {
        "id": "HMm20FxiYIWG",
        "colab_type": "code",
        "outputId": "3044670e-9a85-43a4-8680-dcc6eaeee3f2",
        "colab": {
          "base_uri": "https://localhost:8080/",
          "height": 52
        }
      },
      "cell_type": "code",
      "source": [
        "print(min(num_words))\n",
        "print(max(num_words))"
      ],
      "execution_count": 0,
      "outputs": [
        {
          "output_type": "stream",
          "text": [
            "177\n",
            "2985\n"
          ],
          "name": "stdout"
        }
      ]
    },
    {
      "metadata": {
        "id": "FEkpVa-TC0xz",
        "colab_type": "code",
        "colab": {}
      },
      "cell_type": "code",
      "source": [
        "df = pandas.DataFrame(data)"
      ],
      "execution_count": 0,
      "outputs": []
    },
    {
      "metadata": {
        "id": "34Gig60pDygo",
        "colab_type": "code",
        "colab": {}
      },
      "cell_type": "code",
      "source": [
        "df.columns = ['Genre','Lyrics']"
      ],
      "execution_count": 0,
      "outputs": []
    },
    {
      "metadata": {
        "id": "RIhtA6BiEaL5",
        "colab_type": "code",
        "colab": {}
      },
      "cell_type": "code",
      "source": [
        "df.to_csv(\"cleaned_data.csv\")"
      ],
      "execution_count": 0,
      "outputs": []
    }
  ]
}